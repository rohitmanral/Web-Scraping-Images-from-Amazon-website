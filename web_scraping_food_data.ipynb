{
  "nbformat": 4,
  "nbformat_minor": 0,
  "metadata": {
    "colab": {
      "name": "web scraping food data.ipynb",
      "provenance": [],
      "collapsed_sections": []
    },
    "kernelspec": {
      "name": "python3",
      "display_name": "Python 3"
    }
  },
  "cells": [
    {
      "cell_type": "markdown",
      "metadata": {
        "id": "aFWJzs9CioC1"
      },
      "source": [
        "# **Web Scraping Images from Amazon website**"
      ]
    },
    {
      "cell_type": "code",
      "metadata": {
        "id": "JZr6slw9XzE8"
      },
      "source": [
        "import requests\n",
        "from bs4 import BeautifulSoup\n",
        "import os\n",
        "\n",
        "def imagedown(url, folder):\n",
        "    try:\n",
        "        os.mkdir(os.path.join(os.getcwd(), folder))\n",
        "    except:\n",
        "        pass\n",
        "    os.chdir(os.path.join(os.getcwd(), folder))\n",
        "    r = requests.get(url)\n",
        "    soup = BeautifulSoup(r.text, 'html.parser')\n",
        "    images = soup.find_all('img')\n",
        "    images=images[2:]\n",
        "    images=images[:-8]\n",
        "    for image in images:\n",
        "        name = image['alt']\n",
        "        link = image['src']\n",
        "        with open(name.replace(' ', '-').replace('/', '') + '.jpg', 'wb') as f:\n",
        "            im = requests.get(link)\n",
        "            f.write(im.content)\n",
        "            print('Writing: ', name)"
      ],
      "execution_count": 36,
      "outputs": []
    },
    {
      "cell_type": "code",
      "metadata": {
        "colab": {
          "base_uri": "https://localhost:8080/"
        },
        "id": "0CL6BujNXzH-",
        "outputId": "d518daff-3cec-419b-d5fe-8ec913bffb43"
      },
      "source": [
        "imagedown('https://www.amazon.com.au/s?k=airbuds&crid=1Y7O6SQ3B8OOQ&sprefix=airbu%2Caps%2C339&ref=nb_sb_ss_ts-a-p_1_5', 'amazon_airbuds')"
      ],
      "execution_count": 37,
      "outputs": [
        {
          "output_type": "stream",
          "text": [
            "Writing:  SoundPEATS Trueair Wireless Earbuds with Charging Case, Bluetooth Headphones Smart Touch Control 30 Hours Playtime, Qualco...\n",
            "Writing:  SoundPEATS True Wireless Bluetooth Earbuds in-Ear Stereo Bluetooth Headphones Wireless Earphones (Bluetooth 5.0, Built-in ...\n",
            "Writing:  Wireless Earbuds, TaoTronics Bluetooth Headphones Smart AI Noise Reduction Technology for Clear Calls, Single/Twin Mode, 3...\n",
            "Writing:  SoundPEATS True Wireless Earbuds, Bluetooh V5.0 Headphones in-Ear TWS Bluetooth Earphones Auto-Pair Wireless Headphones wi...\n",
            "Writing:  Wireless Earbuds, HaylouGT1 Bluetooth 5.0 Sports HD Stereo Touch Control Earbuds with IPX5 Waterproof/Total 12H Playtime/F...\n",
            "Writing:  Wireless Earbuds Bluetooh 5.0 Headphones in-Ear TWS Bluetooth Earphones Auto-Pair Noise Reducing Wireless Headphones with ...\n",
            "Writing:  Samsung Galaxy Buds+, Black\n",
            "Writing:  U-ROK Wireless Earphones Bluetooth 5.0 Earbuds with 3000mAh Charging Case LED Digital Display Touch Control 90H Playtime i...\n",
            "Writing:  TOZO T10 Bluetooth 5.0 Wireless Earbuds with Wireless Charging Case IPX8 Waterproof TWS Stereo Headphones in Ear Earphones...\n",
            "Writing:  TOZO T10 Bluetooth 5.0 Wireless Earbuds with Wireless Charging Case IPX8 Waterproof TWS Stereo Headphones in Ear Built in ...\n",
            "Writing:  True Wireless Bluetooth Headphones-Wireless Earphones Bluetooth Earbuds with Bluetooth 5.0,Built-in Mic, Stereo Calls, Noi...\n",
            "Writing:  Xiaomi 2020 Redmi AirDots S TWSEJ05LS TWS Bluetooth 5.0 Earphones True Wireless in-Ear Earbuds with Charging Case High Sou...\n",
            "Writing:  Bang & Olufsen Beoplay H5 Wireless In-Ear Headphones, Splash and Dust Resistant Headphones with Built-In Microphone and Re...\n",
            "Writing:  Samsung Galaxy Buds Wireless, Black\n",
            "Writing:  Dudios Zeus Ace TWS Earbuds, Bluetooth 5.0 Wireless Headphones Stereo in-Ear Mini Earphone (4Hrs Playtime with 800mah Rech...\n",
            "Writing:  Wireless Earbuds, [Upgraded] Boltune Bluetooth V5.0 in-Ear Stereo Wireless Headphones 40Hours Playing Time Bluetooth Earbu...\n",
            "Writing:  Active Noise Cancelling Wireless Earbuds, TaoTronics Hybrid ANC Headphones, Bluetooth 5.1 Earphones with Single/Twin Mode,...\n",
            "Writing:  Wireless Earbuds, LIONAL Bluetooth 5.0 Auto Pairing TWS Headphone in-Ear Headset with High Difinition Mic Earphone with Ch...\n",
            "Writing:  Dudios Bluetooth 5.0 Wireless Earbuds, Zeus Air True Wireless Headphone HiFi Stereo Sound Mini in-Ear Sweatproof Headset (...\n",
            "Writing:  Gouxiang Bluetooth 5.0 Earphones, IPX5 True Wireless Bluetooth Earbuds in-Ear Wireless Sports Earphones (Built-in Mic, Ste...\n",
            "Writing:  elago Premium Silicone Case Compatible with Apple AirPods Case 1 and 2 (Red)\n",
            "Writing:  Wireless Earbuds, TaoTronics SoundLiberty 92 In-Ear Bluetooth Headphones with Charging Case, Hi-Fi Stereo TWS True Wireles...\n",
            "Writing:  SoundPEATS Truengine 3 SE Wireless Earbuds with Dual Dynamic Drivers, 30 Hours Playtime, Touch Control, Bluetooth Headphon...\n",
            "Writing:  APPLE AIRPODS PRO\n",
            "Writing:  SoundPEATS True Wireless Bluetooth Earbuds in-Ear Stereo Bluetooth Headphones Wireless Earphones (Bluetooth 5.0, Built-in ...\n",
            "Writing:  Wireless Earbuds, TaoTronics Dual-Mic Noise Cancellation Bluetooth Headphones for Clear Calls, SoundLiberty 53 Pro In-Ear ...\n",
            "Writing:  SoundPEATS Bluetooth Earphones, Wireless 5.0 Magnetic Earbuds, In-Ear IPX6 Sweatproof Headphones with Mic (13 Hours Playti...\n",
            "Writing:  TOZO T10 Bluetooth 5.0 Wireless Earbuds with Wireless Charging Case IPX8 Waterproof TWS Stereo Headphones in Ear Earphones...\n",
            "Writing:  Samsung Galaxy Buds+ Plus, True Wireless Earbuds w/Improved Battery and Call Quality (Wireless Charging Case Included), Bl...\n",
            "Writing:  Jabra Elite 75t Earbuds – Active Noise Cancelling Bluetooth Headphones with Long Battery Life for True Wireless Calls and ...\n",
            "Writing:  elago Galaxy Buds Case Cover Compatible with Samsung Galaxy Buds+ Plus Case (2020) / Galaxy Buds Case (2019) - Full Body P...\n",
            "Writing:  Headphone Adapter for iPhone Adaptor 3.5mm Jack Dongle Earphone Connector Convertor 2 in 1 Music Accessories Charger Cable...\n",
            "Writing:  SoundPEATS TrueFree2 Wireless Earbuds Bluetooth 5.0 Headphones in-Ear Stereo IPX7 Waterproof Sports Earbuds, Monaural/Bina...\n",
            "Writing:  Samsung Galaxy Buds+ Plus, True Wireless Earbuds (Wireless Charging Case Included), Red – US Version\n",
            "Writing:  SOUNDPEATS TrueWings True Wireless Earbuds Over-Ear Hooks Bluetooth Headphones 5.0 in-Ear Stereo Wireless Earphones with T...\n",
            "Writing:  Samsung Galaxy Buds+, White\n",
            "Writing:  SoundPEATS Truengine SE Dual Dynamic Drivers Wireless Earbuds, Bluetooth 5.0 Headphones with Dual Crossovers, APTX Audio C...\n",
            "Writing:  Sony WF-1000XM3 Industry Leading Noise Canceling Truly Wireless Earbuds with Alexa Voice Control, Black\n",
            "Writing:  Dudios True Wireless Earbuds, in-Ear Bluetooth 5.0 Headphones, Deep Bass Earphones for iPhone and Android (Game Mode, Buil...\n",
            "Writing:  Apple Airpods Protective Case,Airbuds Leather Silicone Cover Waterproof Soft Headphone Accessories for Apple Wireless Earb...\n",
            "Writing:  Bose SoundSport Free Truly Wireless Bluetooth Headphones, Black\n",
            "Writing:  Wireless Earbuds, BlitzWolf Latest Bluetooth 5.0 True Wireless Bluetooth Earbuds 12H Playtime 3D Stereo Sound Wireless Hea...\n",
            "Writing:  Apple Airpods with Charging Case (2nd Gen)\n",
            "Writing:  SoundPEATS Truebuds True Wireless Earbuds, Semi in-Ear Headphones Bluetooth 5.0 Stereo Earphones, Long Wear Comfort, Touch...\n",
            "Writing:  Samsung Galaxy Buds+, Blue\n",
            "Writing:  Apple Airpods Protective Case,Airbuds Leather Silicone Cover Waterproof Soft Headphone Accessories for Apple Wireless Earb...\n",
            "Writing:  Apple Airpods Protective Case,Airbuds Leather Silicone Cover Waterproof Soft Headphone Accessories for Apple Wireless Earb...\n",
            "Writing:  Apple Airpods Protective Case,Airbuds Leather Silicone Cover Waterproof Soft Headphone Accessories for Apple Wireless Earb...\n"
          ],
          "name": "stdout"
        }
      ]
    }
  ]
}